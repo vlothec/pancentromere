{
 "cells": [
  {
   "cell_type": "code",
   "execution_count": 1,
   "id": "3ed2c985",
   "metadata": {
    "scrolled": true
   },
   "outputs": [
    {
     "name": "stdout",
     "output_type": "stream",
     "text": [
      "['all.repeats.from.11B21.Chr1.fasta.csv', 'all.repeats.from.11B21.Chr2.fasta.csv', 'all.repeats.from.11B21.Chr3.fasta.csv', 'all.repeats.from.11B21.Chr4.fasta.csv', 'all.repeats.from.11B21.Chr5.fasta.csv', 'all.repeats.from.11B21.Chr6.fasta.csv', 'all.repeats.from.11B21.Chr7.fasta.csv', 'all.repeats.from.11B21.Chr8.fasta.csv', 'all.repeats.from.MN47.Chr1.fasta.csv', 'all.repeats.from.MN47.Chr2.fasta.csv', 'all.repeats.from.MN47.Chr3.fasta.csv', 'all.repeats.from.MN47.Chr4.fasta.csv', 'all.repeats.from.MN47.Chr5.fasta.csv', 'all.repeats.from.MN47.Chr6.fasta.csv', 'all.repeats.from.MN47.Chr7.fasta.csv', 'all.repeats.from.MN47.Chr8.fasta.csv', 'all.repeats.from.NT1.Chr1.fasta.csv', 'all.repeats.from.NT1.Chr2.fasta.csv', 'all.repeats.from.NT1.Chr3.fasta.csv', 'all.repeats.from.NT1.Chr4.fasta.csv', 'all.repeats.from.NT1.Chr5.fasta.csv', 'all.repeats.from.NT1.Chr6.fasta.csv', 'all.repeats.from.NT1.Chr7.fasta.csv', 'all.repeats.from.NT1.Chr8.fasta.csv']\n"
     ]
    }
   ],
   "source": [
    "import pandas as pd\n",
    "import numpy as np\n",
    "import seaborn as sns\n",
    "import os\n",
    "\n",
    "sourcedir = 'Alyrata/'\n",
    "\n",
    "dl = os.listdir('Alyrata/')\n",
    "print(dl)\n",
    "\n"
   ]
  },
  {
   "cell_type": "code",
   "execution_count": 1,
   "id": "bf995fff",
   "metadata": {},
   "outputs": [
    {
     "ename": "NameError",
     "evalue": "name 'myfile' is not defined",
     "output_type": "error",
     "traceback": [
      "\u001b[1;31m---------------------------------------------------------------------------\u001b[0m",
      "\u001b[1;31mNameError\u001b[0m                                 Traceback (most recent call last)",
      "\u001b[1;32m~\\AppData\\Local\\Temp/ipykernel_4016/1001333278.py\u001b[0m in \u001b[0;36m<module>\u001b[1;34m\u001b[0m\n\u001b[1;32m----> 1\u001b[1;33m \u001b[0mmyfile\u001b[0m\u001b[1;33m.\u001b[0m\u001b[0mhead\u001b[0m\u001b[1;33m(\u001b[0m\u001b[0mn\u001b[0m\u001b[1;33m=\u001b[0m\u001b[1;36m5\u001b[0m\u001b[1;33m)\u001b[0m\u001b[1;33m\u001b[0m\u001b[1;33m\u001b[0m\u001b[0m\n\u001b[0m",
      "\u001b[1;31mNameError\u001b[0m: name 'myfile' is not defined"
     ]
    }
   ],
   "source": [
    "for f in dl:\n",
    "    myfile=pd.read_csv('Alyrata/%s'%(f))\n",
    "    myfile.head(n=5)\n",
    "    myfile['chromosome'].unique()\n",
    "    acc=myfile['fasta.file.name'].iloc[0] \n",
    "    #print(acc)\n",
    "    acc=acc.partition('.')\n",
    "    #print(acc)\n",
    "    acc=acc[0]\n",
    "    print(acc)\n",
    "    myfile['name']=acc\n",
    "    myfile['end']= myfile['end'].astype(int)\n",
    "    myfile['name']=myfile[['name','chromosome', 'start', 'end', 'width']].astype(str).agg('-'.join, axis=1)\n",
    "    myfile.head(n=3)\n",
    "    myfile_160=myfile[(myfile['width'] >= 145) & (myfile['width'] <= 165)] #changed from 155 for Alyrata\n",
    "    myfile_160 =myfile_160.drop_duplicates(subset=['chromosome', 'seq'])\n",
    "    myfile_180=myfile[(myfile['width'] >= 165) & (myfile['width'] <= 185)] #changed from 175 for Alyrata\n",
    "    myfile_180 =myfile_180.drop_duplicates(subset=['chromosome', 'seq'])\n",
    "    out=open('%s_cen160.fasta'%(acc),'w')\n",
    "    out2=open('%s_cen180.fasta'%(acc),'w')\n",
    "    for index, row in myfile_160.iterrows():\n",
    "        name=row[9]\n",
    "        sequence=row[3]\n",
    "        out.write(\">\" + str(name) + \"\\n\" + str(sequence) + '\\n')\n",
    "    out.close()\n",
    "    for index, row in myfile_180.iterrows():\n",
    "        name=row[9]\n",
    "        sequence=row[3]\n",
    "        out2.write(\">\" + str(name) + \"\\n\" + str(sequence) + '\\n')\n",
    "    out2.close()\n",
    "    \n"
   ]
  },
  {
   "cell_type": "code",
   "execution_count": 30,
   "id": "64eabcd5",
   "metadata": {},
   "outputs": [
    {
     "name": "stdout",
     "output_type": "stream",
     "text": [
      "7456\n",
      "6\n",
      "2902\n",
      "4\n"
     ]
    }
   ],
   "source": [
    "myfile=pd.read_csv('Alyrata/all.repeats.from.NT1.Chr8.fasta.csv')\n",
    "myfile.head(n=5)\n",
    "myfile_160=myfile[(myfile['width'] >= 166) & (myfile['width'] <=172)]\n",
    "myfile_180=myfile[(myfile['width'] >= 176) & (myfile['width'] < 182)]\n",
    "myfile_160_u =myfile_160.drop_duplicates(subset=['region.name', 'seq'])\n",
    "myfile_180_u = myfile_180.drop_duplicates(subset=['region.name', 'seq'])\n",
    "print(len(myfile_160))\n",
    "print(len(myfile_180))\n",
    "print(len(myfile_160_u))\n",
    "print(len(myfile_180_u))\n"
   ]
  },
  {
   "cell_type": "code",
   "execution_count": 10,
   "id": "ac6a0359",
   "metadata": {},
   "outputs": [
    {
     "data": {
      "text/plain": [
       "<AxesSubplot:xlabel='width', ylabel='Count'>"
      ]
     },
     "execution_count": 10,
     "metadata": {},
     "output_type": "execute_result"
    },
    {
     "data": {
      "image/png": "[encoded data removed]",
      "text/plain": [
       "<Figure size 432x288 with 1 Axes>"
      ]
     },
     "metadata": {
      "needs_background": "light"
     },
     "output_type": "display_data"
    }
   ],
   "source": [
    "sns.histplot(myfile_repeat['width'], binwidth=1)"
   ]
  },
  {
   "cell_type": "code",
   "execution_count": 11,
   "id": "544e4140",
   "metadata": {},
   "outputs": [
    {
     "data": {
      "text/html": [
       "<div>\n",
       "<style scoped>\n",
       "    .dataframe tbody tr th:only-of-type {\n",
       "        vertical-align: middle;\n",
       "    }\n",
       "\n",
       "    .dataframe tbody tr th {\n",
       "        vertical-align: top;\n",
       "    }\n",
       "\n",
       "    .dataframe thead th {\n",
       "        text-align: right;\n",
       "    }\n",
       "</style>\n",
       "<table border=\"1\" class=\"dataframe\">\n",
       "  <thead>\n",
       "    <tr style=\"text-align: right;\">\n",
       "      <th></th>\n",
       "      <th>x</th>\n",
       "      <th>start</th>\n",
       "      <th>end</th>\n",
       "      <th>strand</th>\n",
       "      <th>seq</th>\n",
       "      <th>width</th>\n",
       "      <th>class</th>\n",
       "      <th>region.name</th>\n",
       "    </tr>\n",
       "  </thead>\n",
       "  <tbody>\n",
       "    <tr>\n",
       "      <th>0</th>\n",
       "      <td>ACAAAATTAGGTCCACAAAATACAAAATATTTTTTGGCGGGAAAAG...</td>\n",
       "      <td>204422</td>\n",
       "      <td>204562</td>\n",
       "      <td>+</td>\n",
       "      <td>ACAAAATTAGGTCCACAAAATACAAAATATTTTTTGGCGGGAAAAG...</td>\n",
       "      <td>141</td>\n",
       "      <td>NaN</td>\n",
       "      <td>11B21.Chr1.fasta_scaffold_1_RagTag</td>\n",
       "    </tr>\n",
       "    <tr>\n",
       "      <th>1</th>\n",
       "      <td>TTGGCGTTAAATTTTTGGCGGGAAAAATTTACAAGGTATTTTAAAG...</td>\n",
       "      <td>204601</td>\n",
       "      <td>204666</td>\n",
       "      <td>-</td>\n",
       "      <td>ATAAATACCCTGTAAAAACCCTTTAAAATACCTTGTAAATTTTTCC...</td>\n",
       "      <td>66</td>\n",
       "      <td>NaN</td>\n",
       "      <td>11B21.Chr1.fasta_scaffold_1_RagTag</td>\n",
       "    </tr>\n",
       "    <tr>\n",
       "      <th>2</th>\n",
       "      <td>TTGGCGGGAAAAATTTACAAGGTATTTTAAAGGGTTTTTACAGGGT...</td>\n",
       "      <td>204667</td>\n",
       "      <td>204738</td>\n",
       "      <td>-</td>\n",
       "      <td>AAAATCTTATAATATCTTATAAACTCTTTATAAATACGTTGTAAAA...</td>\n",
       "      <td>72</td>\n",
       "      <td>NaN</td>\n",
       "      <td>11B21.Chr1.fasta_scaffold_1_RagTag</td>\n",
       "    </tr>\n",
       "    <tr>\n",
       "      <th>3</th>\n",
       "      <td>ATAAAACCTTATAAGTACCTTGTAAAATCTTTTAAAATACATTGTA...</td>\n",
       "      <td>204817</td>\n",
       "      <td>204945</td>\n",
       "      <td>+</td>\n",
       "      <td>ATAAAACCTTATAAGTACCTTGTAAAATCTTTTAAAATACATTGTA...</td>\n",
       "      <td>129</td>\n",
       "      <td>NaN</td>\n",
       "      <td>11B21.Chr1.fasta_scaffold_1_RagTag</td>\n",
       "    </tr>\n",
       "    <tr>\n",
       "      <th>4</th>\n",
       "      <td>TTGGCGGGAAAAATTTTTACGGGAAAATTTTACAAGGTATTTTAAA...</td>\n",
       "      <td>205014</td>\n",
       "      <td>205144</td>\n",
       "      <td>-</td>\n",
       "      <td>ACAAAATTAGGTCCACAAAATACAAAATATTTTTTGGCGGGAAAAG...</td>\n",
       "      <td>131</td>\n",
       "      <td>NaN</td>\n",
       "      <td>11B21.Chr1.fasta_scaffold_1_RagTag</td>\n",
       "    </tr>\n",
       "  </tbody>\n",
       "</table>\n",
       "</div>"
      ],
      "text/plain": [
       "                                                   x   start     end strand  \\\n",
       "0  ACAAAATTAGGTCCACAAAATACAAAATATTTTTTGGCGGGAAAAG...  204422  204562      +   \n",
       "1  TTGGCGTTAAATTTTTGGCGGGAAAAATTTACAAGGTATTTTAAAG...  204601  204666      -   \n",
       "2  TTGGCGGGAAAAATTTACAAGGTATTTTAAAGGGTTTTTACAGGGT...  204667  204738      -   \n",
       "3  ATAAAACCTTATAAGTACCTTGTAAAATCTTTTAAAATACATTGTA...  204817  204945      +   \n",
       "4  TTGGCGGGAAAAATTTTTACGGGAAAATTTTACAAGGTATTTTAAA...  205014  205144      -   \n",
       "\n",
       "                                                 seq  width class  \\\n",
       "0  ACAAAATTAGGTCCACAAAATACAAAATATTTTTTGGCGGGAAAAG...    141   NaN   \n",
       "1  ATAAATACCCTGTAAAAACCCTTTAAAATACCTTGTAAATTTTTCC...     66   NaN   \n",
       "2  AAAATCTTATAATATCTTATAAACTCTTTATAAATACGTTGTAAAA...     72   NaN   \n",
       "3  ATAAAACCTTATAAGTACCTTGTAAAATCTTTTAAAATACATTGTA...    129   NaN   \n",
       "4  ACAAAATTAGGTCCACAAAATACAAAATATTTTTTGGCGGGAAAAG...    131   NaN   \n",
       "\n",
       "                          region.name  \n",
       "0  11B21.Chr1.fasta_scaffold_1_RagTag  \n",
       "1  11B21.Chr1.fasta_scaffold_1_RagTag  \n",
       "2  11B21.Chr1.fasta_scaffold_1_RagTag  \n",
       "3  11B21.Chr1.fasta_scaffold_1_RagTag  \n",
       "4  11B21.Chr1.fasta_scaffold_1_RagTag  "
      ]
     },
     "execution_count": 11,
     "metadata": {},
     "output_type": "execute_result"
    }
   ],
   "source": [
    "myfile.head(n=5)"
   ]
  },
  {
   "cell_type": "code",
   "execution_count": null,
   "id": "9c9b8996",
   "metadata": {},
   "outputs": [],
   "source": []
  }
 ],
 "metadata": {
  "kernelspec": {
   "display_name": "Python 3 (ipykernel)",
   "language": "python",
   "name": "python3"
  },
  "language_info": {
   "codemirror_mode": {
    "name": "ipython",
    "version": 3
   },
   "file_extension": ".py",
   "mimetype": "text/x-python",
   "name": "python",
   "nbconvert_exporter": "python",
   "pygments_lexer": "ipython3",
   "version": "3.9.5"
  }
 },
 "nbformat": 4,
 "nbformat_minor": 5
}
