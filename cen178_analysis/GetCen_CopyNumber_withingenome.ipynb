{
 "cells": [
  {
   "cell_type": "code",
   "execution_count": 19,
   "id": "11f7b40d",
   "metadata": {},
   "outputs": [
    {
     "name": "stdout",
     "output_type": "stream",
     "text": [
      "['all.repeats.from.22005.patch.scaffold.Chr.fa.csv', 'all.repeats.from.6137.ragtag_scaffolds.fa.csv', 'all.repeats.from.6923.scaffolds.bionano.final.fa.csv', 'all.repeats.from.7143.scaffolds.bionano.final.fa.csv', 'all.repeats.from.8285.scaffolds.bionano.final.fa.csv', 'all.repeats.from.9336.scaffolds.bionano.final.fa.csv', 'all.repeats.from.9503.scaffolds.bionano.final.fa.csv', 'all.repeats.from.9744.scaffolds.bionano.final.fa.csv', 'all.repeats.from.9762.scaffolds.bionano.final.fa.csv', 'all.repeats.from.9806.scaffolds.bionano.final.fa.csv', 'all.repeats.from.9830.scaffolds.bionano.final.fa.csv', 'all.repeats.from.9847.scaffolds.bionano.final.fa.csv', 'all.repeats.from.9852.scaffolds.bionano.final.fa.csv', 'all.repeats.from.9879.scaffolds.bionano.final.fa.csv', 'all.repeats.from.9883.scaffolds.bionano.final.fa.csv', 'all.repeats.from.9900.scaffolds.bionano.final.fa.csv', 'all.repeats.from.9994.patch.scaffold.Chr.fa.csv', 'all.repeats.from.Alo-0.ragtag_scaffolds.fa.csv', 'all.repeats.from.Alo-19.ragtag_scaffolds.fa.csv', 'all.repeats.from.ANGE-B-10.ragtag_scaffolds.fa.csv', 'all.repeats.from.ANGE-B-2.ragtag_scaffolds.fa.csv', 'all.repeats.from.AUZE-A-5.ragtag_scaffolds.fa.csv', 'all.repeats.from.BANI-C-1.ragtag_scaffolds.fa.csv', 'all.repeats.from.BANI-C-12.ragtag_scaffolds.fa.csv', 'all.repeats.from.BARA-C-3.ragtag_scaffolds.fa.csv', 'all.repeats.from.BARA-C-5.ragtag_scaffolds.fa.csv', 'all.repeats.from.BARC-A-12.ragtag_scaffolds.fa.csv', 'all.repeats.from.BARC-A-17.ragtag_scaffolds.fa.csv', 'all.repeats.from.BELC-C-10.ragtag_scaffolds.fa.csv', 'all.repeats.from.BELC-C-12.ragtag_scaffolds.fa.csv', 'all.repeats.from.BROU-A-10.ragtag_scaffolds.fa.csv', 'all.repeats.from.CAMA-C-2.ragtag_scaffolds.fa.csv', 'all.repeats.from.CAMA-C-9.ragtag_scaffolds.fa.csv', 'all.repeats.from.Cas-0.ragtag_scaffolds.fa.csv', 'all.repeats.from.Cas-6.ragtag_scaffolds.fa.csv', 'all.repeats.from.Cat-0.ragtag_scaffolds.fa.csv', 'all.repeats.from.Col-0.ragtag_scaffolds.fa.csv', 'all.repeats.from.Cvi-0.ragtag_scaffolds.fa.csv', 'all.repeats.from.ddAraThal4.1.primary.fa.csv', 'all.repeats.from.Evs-0.ragtag_scaffolds.fa.csv', 'all.repeats.from.Evs-12.ragtag_scaffolds.fa.csv', 'all.repeats.from.FERR-A-12.ragtag_scaffolds.fa.csv', 'all.repeats.from.FERR-A-8.ragtag_scaffolds.fa.csv', 'all.repeats.from.GAIL-B-11.ragtag_scaffolds.fa.csv', 'all.repeats.from.Hom-0.ragtag_scaffolds.fa.csv', 'all.repeats.from.Hom-4.ragtag_scaffolds.fa.csv', 'all.repeats.from.Hum-2.ragtag_scaffolds.fa.csv', 'all.repeats.from.Hum-4.ragtag_scaffolds.fa.csv', 'all.repeats.from.LACR-C-14.ragtag_scaffolds.fa.csv', 'all.repeats.from.Ler-0_110x.ragtag_scaffolds.fa.csv', 'all.repeats.from.Lor-16.ragtag_scaffolds.fa.csv', 'all.repeats.from.Mdc-14.ragtag_scaffolds.fa.csv', 'all.repeats.from.Med-0.ragtag_scaffolds.fa.csv', 'all.repeats.from.Med-3.ragtag_scaffolds.fa.csv', 'all.repeats.from.MERE-A-13.ragtag_scaffolds.fa.csv', 'all.repeats.from.Met-6.ragtag_scaffolds.fa.csv', 'all.repeats.from.MONTM-B-16.ragtag_scaffolds.fa.csv', 'all.repeats.from.MONTM-B-7.ragtag_scaffolds.fa.csv', 'all.repeats.from.Mos-5.ragtag_scaffolds.fa.csv', 'all.repeats.from.Mos-9.ragtag_scaffolds.fa.csv', 'all.repeats.from.PREI-A-14.ragtag_scaffolds.fa.csv', 'all.repeats.from.SALE-A-10.ragtag_scaffolds.fa.csv', 'all.repeats.from.SALE-A-17.ragtag_scaffolds.fa.csv', 'all.repeats.from.San-9.ragtag_scaffolds.fa.csv', 'all.repeats.from.Sln-22.ragtag_scaffolds.fa.csv', 'all.repeats.from.Tanz-1.patch.scaffold.Chr.fa.csv']\n"
     ]
    }
   ],
   "source": [
    "import pandas as pd\n",
    "import numpy as np\n",
    "import seaborn as sns\n",
    "import os\n",
    "\n",
    "sourcedir = 'my66csvs/'\n",
    "\n",
    "dl = os.listdir('my66csvs/')\n",
    "print(dl)"
   ]
  },
  {
   "cell_type": "code",
   "execution_count": 21,
   "id": "a0383a56",
   "metadata": {},
   "outputs": [
    {
     "name": "stdout",
     "output_type": "stream",
     "text": [
      "22005\n",
      "6137\n",
      "6923\n",
      "7143\n",
      "8285\n",
      "9336\n",
      "9503\n",
      "9744\n",
      "9762\n",
      "9806\n",
      "9830\n",
      "9847\n",
      "9852\n",
      "9879\n",
      "9883\n",
      "9900\n",
      "9994\n",
      "Alo-0\n",
      "Alo-19\n",
      "ANGE-B-10\n",
      "ANGE-B-2\n",
      "AUZE-A-5\n",
      "BANI-C-1\n",
      "BANI-C-12\n",
      "BARA-C-3\n",
      "BARA-C-5\n",
      "BARC-A-12\n",
      "BARC-A-17\n",
      "BELC-C-10\n",
      "BELC-C-12\n",
      "BROU-A-10\n",
      "CAMA-C-2\n",
      "CAMA-C-9\n",
      "Cas-0\n",
      "Cas-6\n",
      "Cat-0\n",
      "Col-0\n",
      "Cvi-0\n",
      "ddAraThal4\n",
      "Evs-0\n",
      "Evs-12\n",
      "FERR-A-12\n",
      "FERR-A-8\n",
      "GAIL-B-11\n",
      "Hom-0\n",
      "Hom-4\n",
      "Hum-2\n",
      "Hum-4\n",
      "LACR-C-14\n",
      "Ler-0_110x\n",
      "Lor-16\n",
      "Mdc-14\n",
      "Med-0\n",
      "Med-3\n",
      "MERE-A-13\n",
      "Met-6\n",
      "MONTM-B-16\n",
      "MONTM-B-7\n",
      "Mos-5\n",
      "Mos-9\n",
      "PREI-A-14\n",
      "SALE-A-10\n",
      "SALE-A-17\n",
      "San-9\n",
      "Sln-22\n",
      "Tanz-1\n"
     ]
    }
   ],
   "source": [
    "for f in dl:\n",
    "    myfile=pd.read_csv('my66csvs/%s'%(f))\n",
    "    myfile.head(n=5)\n",
    "    myfile['chromosome'].unique()\n",
    "    acc=myfile['assembly'].iloc[0] \n",
    "    #print(acc)\n",
    "    acc=acc.partition('.')\n",
    "    #print(acc)\n",
    "    acc=acc[0]\n",
    "    print(acc)\n",
    "    myfile['assembly']=acc\n",
    "    myfile['end']= myfile['end'].astype(int)\n",
    "    myfile['name']=myfile[['assembly','chromosome', 'start', 'end', 'length']].astype(str).agg('-'.join, axis=1)\n",
    "    #myfile.head(n=3)\n",
    "    myfile_180=myfile[(myfile['length'] >= 175) & (myfile['length'] <= 185)] #changed from 165 for Alyrata\n",
    "    mysize=myfile_180.pivot_table(columns=['chromosome', 'sequence_strand_adjusted'],aggfunc= ['size'])\n",
    "    myfile_180 =myfile_180.drop_duplicates(subset=['chromosome', 'sequence_strand_adjusted'])\n",
    "    mysize.to_csv('my66csvs/%s.tmp'%(f))\n",
    "    mysize=pd.read_csv('my66csvs/%s.tmp'%(f))\n",
    "    out2=open('%s_cen180_copynumber_sequence.txt'%(acc),'w')\n",
    "    df_c = pd.concat([myfile_180[['name', 'sequence_strand_adjusted']].reset_index(drop=True), mysize['size']], axis=1)\n",
    "    for index, row in df_c.iterrows():\n",
    "        name=row[0]\n",
    "        seq=row[1]\n",
    "        cn=row[2]\n",
    "        out2.write(str(name) + \"\\t\" + str(seq) + '\\t' + str(cn) + '\\n')\n",
    "    out2.close()"
   ]
  },
  {
   "cell_type": "code",
   "execution_count": null,
   "id": "0811655a",
   "metadata": {},
   "outputs": [],
   "source": []
  }
 ],
 "metadata": {
  "kernelspec": {
   "display_name": "Python 3 (ipykernel)",
   "language": "python",
   "name": "python3"
  },
  "language_info": {
   "codemirror_mode": {
    "name": "ipython",
    "version": 3
   },
   "file_extension": ".py",
   "mimetype": "text/x-python",
   "name": "python",
   "nbconvert_exporter": "python",
   "pygments_lexer": "ipython3",
   "version": "3.9.5"
  }
 },
 "nbformat": 4,
 "nbformat_minor": 5
}
